{
 "cells": [
  {
   "cell_type": "code",
   "execution_count": 4,
   "metadata": {},
   "outputs": [
    {
     "name": "stdout",
     "output_type": "stream",
     "text": [
      "len: 0 \t tamanho: 56\n",
      "len: 1 \t tamanho: 88\n",
      "len: 2 \t tamanho: 88\n",
      "len: 3 \t tamanho: 88\n",
      "len: 4 \t tamanho: 88\n",
      "len: 5 \t tamanho: 120\n",
      "len: 6 \t tamanho: 120\n",
      "len: 7 \t tamanho: 120\n",
      "len: 8 \t tamanho: 120\n",
      "len: 9 \t tamanho: 184\n",
      "len: 10 \t tamanho: 184\n",
      "len: 11 \t tamanho: 184\n",
      "len: 12 \t tamanho: 184\n",
      "len: 13 \t tamanho: 184\n",
      "len: 14 \t tamanho: 184\n",
      "len: 15 \t tamanho: 184\n"
     ]
    }
   ],
   "source": [
    "import sys\n",
    "\n",
    "lista = []\n",
    "\n",
    "for i in range(16):\n",
    "    print(f\"len: {len(lista)} \\t tamanho: {sys.getsizeof(lista)}\")\n",
    "    lista.append(0)\n",
    "\n",
    "\n"
   ]
  },
  {
   "cell_type": "code",
   "execution_count": 6,
   "metadata": {},
   "outputs": [
    {
     "data": {
      "text/plain": [
       "0.022729399999661837"
      ]
     },
     "execution_count": 6,
     "metadata": {},
     "output_type": "execute_result"
    }
   ],
   "source": [
    "import timeit\n",
    "timeit.timeit('lista = list()')\n",
    "timeit.timeit('lista = []')\n",
    "\n",
    "# o tempo é medido em segundos\n"
   ]
  },
  {
   "cell_type": "code",
   "execution_count": null,
   "metadata": {},
   "outputs": [],
   "source": [
    "def _insere(self, ):\n",
    "\n",
    "    for i in range(len(V), j, -1):\n",
    "        V[i] = V[i -1]\n",
    "\n",
    "    V[j] = valor"
   ]
  },
  {
   "cell_type": "code",
   "execution_count": null,
   "metadata": {},
   "outputs": [],
   "source": [
    "for i, v_i in enumerate(V):\n",
    "    if v_i == x:\n",
    "        # remove v_i por sobrescrevê-lo\n",
    "        # desloca os elementos uma célula para esquerda\n",
    "\n",
    "        for j in range(i, len(V) -1):\n",
    "            V[j] = V[j+1]:\n",
    "\n",
    "        V[len(V) -1] = None"
   ]
  },
  {
   "cell_type": "code",
   "execution_count": null,
   "metadata": {},
   "outputs": [],
   "source": [
    "# Exercício : Inserir um elemento numa lista ordenada"
   ]
  }
 ],
 "metadata": {
  "kernelspec": {
   "display_name": "Python 3",
   "language": "python",
   "name": "python3"
  },
  "language_info": {
   "codemirror_mode": {
    "name": "ipython",
    "version": 3
   },
   "file_extension": ".py",
   "mimetype": "text/x-python",
   "name": "python",
   "nbconvert_exporter": "python",
   "pygments_lexer": "ipython3",
   "version": "3.12.3"
  }
 },
 "nbformat": 4,
 "nbformat_minor": 2
}
