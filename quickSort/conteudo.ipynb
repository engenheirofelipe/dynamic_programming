{
 "cells": [
  {
   "cell_type": "code",
   "execution_count": 1,
   "metadata": {},
   "outputs": [
    {
     "name": "stdout",
     "output_type": "stream",
     "text": [
      "[2, 3, 3, 5, 5, 6, 6, 6, 9]\n"
     ]
    }
   ],
   "source": [
    "def quick_sort(sequencia): #  Função que tem uma sequência de valores desordenados\n",
    "    length = len(sequencia)\n",
    "    if length <= 1:\n",
    "        return sequencia # Essa lógica faz pular sequencia que tem a len de 1 ou 0.\n",
    "    else:\n",
    "        pivot = sequencia.pop()\n",
    "\n",
    "    items_maior = []\n",
    "    items_menor = []\n",
    "\n",
    "    for item in sequencia:\n",
    "        if item > pivot:\n",
    "            items_maior.append(item)\n",
    "\n",
    "        else:\n",
    "            items_menor.append(item)\n",
    "\n",
    "    return quick_sort(items_menor) + [pivot] + quick_sort(items_maior)\n",
    "\n",
    "print(quick_sort([5,6,3,6,9,5,3,6,2]))\n",
    "    \n",
    "\n",
    "\n",
    "    \n"
   ]
  }
 ],
 "metadata": {
  "kernelspec": {
   "display_name": "Python 3",
   "language": "python",
   "name": "python3"
  },
  "language_info": {
   "codemirror_mode": {
    "name": "ipython",
    "version": 3
   },
   "file_extension": ".py",
   "mimetype": "text/x-python",
   "name": "python",
   "nbconvert_exporter": "python",
   "pygments_lexer": "ipython3",
   "version": "3.12.3"
  }
 },
 "nbformat": 4,
 "nbformat_minor": 2
}
