{
 "cells": [
  {
   "cell_type": "code",
   "execution_count": 3,
   "metadata": {},
   "outputs": [
    {
     "name": "stdout",
     "output_type": "stream",
     "text": [
      "Procurando 4 no vetor [-8, -5, 1, 4, 14, 21, 23, 54, 67, 90]\n",
      "indices: esquerda 0 direita 9\n",
      "Indice do meio 4,elemento do meio 14\n",
      "4 e menor do que o meio\n",
      "restrigindo a busca ao vetor\n",
      "[-8, -5, 1, 4]\n",
      "indices: esquerda 0 direita 3\n",
      "Indice do meio 1,elemento do meio -5\n",
      "4 e maior do que o meio\n",
      "restrigindo a busca ao vetor\n",
      "[1, 4]\n",
      "indices: esquerda 2 direita 3\n",
      "Indice do meio 2,elemento do meio 1\n",
      "4 e maior do que o meio\n",
      "restrigindo a busca ao vetor\n",
      "[4]\n",
      "indices: esquerda 3 direita 3\n",
      "Indice do meio 3,elemento do meio 4\n",
      "4 == 4, retornado o índice 3\n"
     ]
    },
    {
     "data": {
      "text/plain": [
       "3"
      ]
     },
     "execution_count": 3,
     "metadata": {},
     "output_type": "execute_result"
    }
   ],
   "source": [
    "## parte do busca binária\n",
    "def busca_binaria(vetor, x):\n",
    "    print(f\"Procurando {x} no vetor {vetor}\")\n",
    "    esquerda = 0\n",
    "    direita = len(vetor) -1\n",
    "\n",
    "    while esquerda <= direita:\n",
    "        print(f\"indices: esquerda : {esquerda}, direita : {direita}\")\n",
    "        meio = (esquerda + direita) // 2\n",
    "        print(f\"Indice do meio {meio},\"\n",
    "              f\"elemento do meio {vetor[meio]}\")\n",
    "        if vetor[meio] == x:\n",
    "            print(f\"{vetor[meio]} == {x}, \"\n",
    "                  f\"retornado o índice {meio}\")\n",
    "            return meio\n",
    "        elif x > vetor[meio]:\n",
    "            print(f\"{x} e maior do que o meio\")\n",
    "            esquerda = meio +1\n",
    "            print(f\"restrigindo a busca ao vetor\")\n",
    "            print(vetor[esquerda:direita+1])\n",
    "        else:\n",
    "            print(f\"{x} e menor do que o meio\")\n",
    "            direita = meio -1\n",
    "            print(f\"restrigindo a busca ao vetor\")\n",
    "            print(vetor[esquerda:direita+1])\n",
    "    return -1\n",
    "\n",
    "vetor = [-8,-5,1,4,14,21,23,54,67,90]\n",
    "x = 4\n",
    "busca_binaria(vetor,x)"
   ]
  }
 ],
 "metadata": {
  "kernelspec": {
   "display_name": "Python 3",
   "language": "python",
   "name": "python3"
  },
  "language_info": {
   "codemirror_mode": {
    "name": "ipython",
    "version": 3
   },
   "file_extension": ".py",
   "mimetype": "text/x-python",
   "name": "python",
   "nbconvert_exporter": "python",
   "pygments_lexer": "ipython3",
   "version": "3.12.3"
  }
 },
 "nbformat": 4,
 "nbformat_minor": 2
}
