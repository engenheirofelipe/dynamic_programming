{
 "cells": [
  {
   "cell_type": "code",
   "execution_count": 1,
   "metadata": {},
   "outputs": [],
   "source": [
    "import sys\n",
    "import random\n",
    "import typing\n",
    "\n",
    "def selection_sort(vetor:list[any]) -> None:\n",
    "\n",
    "    for i,_ in enumerate(vetor):\n",
    "        indice_min = i\n",
    "\n",
    "    for j in range(i+1, len(vetor)):\n",
    "        if vetor[j] < vetor[indice_min]:\n",
    "            indice_min = j\n",
    "        \n",
    "    vetor[i], vetor[indice_min] = vetor[indice_min], vetor[i]\n",
    "\n",
    "\n",
    "def insertion_sort(vetor:list[any]) -> None:\n",
    "    for i in range(1, len(vetor)): # 1 é o indice onde começa\n",
    "        chave= vetor[i]\n",
    "        j = i - 1\n",
    "\n",
    "        while j >=0 and vetor[j] > chave: # Caso j for maior que zero ou maior que o indice i \n",
    "            vetor[j +1] = vetor[j] # Pegar o j e colocar na posição j + 1\n",
    "            j -= 1   # decrementa em uma unidade\n",
    "\n",
    "        vetor[j +1] = chave\n",
    "\n",
    "def bubble_sort(vetor:list[any]) -> None:\n",
    "    tamanho = len(vetor)\n",
    "    i = 0\n",
    "    troca = True\n",
    "\n",
    "    while i < tamanho -1 and troca != False:\n",
    "        troca = False\n",
    "\n",
    "        for j in range(tamanho -i -j):\n",
    "            if vetor[j] > vetor[j +1]:\n",
    "                vetor[j], vetor[j +1] = vetor[j +1], vetor[j]\n",
    "                troca = True\n",
    "\n",
    "        i += 1\n",
    "\n",
    "if __name__ == \"__main__\":\n",
    "    random.seed(42)\n",
    "\n",
    "    if len(sys.argv) > 1:\n",
    "        n = int(sys.argv[1])\n",
    "\n",
    "    else:\n",
    "        n = 100\n",
    "\n",
    "    V = [random.randit(1,n) for _ in range(n)]\n",
    "    merge_sort(V,0,len(V) -1)\n",
    "    assert verifica_vetor_ordenado(V) # assert usa para fazer teste de implementação\n",
    "    print(V)\n",
    "\n"
   ]
  },
  {
   "cell_type": "code",
   "execution_count": null,
   "metadata": {},
   "outputs": [],
   "source": []
  }
 ],
 "metadata": {
  "kernelspec": {
   "display_name": "Python 3",
   "language": "python",
   "name": "python3"
  },
  "language_info": {
   "codemirror_mode": {
    "name": "ipython",
    "version": 3
   },
   "file_extension": ".py",
   "mimetype": "text/x-python",
   "name": "python",
   "nbconvert_exporter": "python",
   "pygments_lexer": "ipython3",
   "version": "3.12.3"
  }
 },
 "nbformat": 4,
 "nbformat_minor": 2
}
