{
 "cells": [
  {
   "cell_type": "code",
   "execution_count": 6,
   "metadata": {},
   "outputs": [
    {
     "name": "stderr",
     "output_type": "stream",
     "text": [
      "<>:13: SyntaxWarning: 'NoneType' object is not callable; perhaps you missed a comma?\n",
      "<>:13: SyntaxWarning: 'NoneType' object is not callable; perhaps you missed a comma?\n",
      "C:\\Users\\felip\\AppData\\Local\\Temp\\ipykernel_26516\\95606562.py:13: SyntaxWarning: 'NoneType' object is not callable; perhaps you missed a comma?\n",
      "  node = None(elem)\n"
     ]
    }
   ],
   "source": [
    "class Node: \n",
    "    def __init__(self,data): # Criando o método construtor, que recebe ele mesmo e os dados.\n",
    "        self.data = data # self.data é igual ao dado que estou recebendo do usuário\n",
    "        self.next = None # Todo nó que cria ele recebe vazio\n",
    "\n",
    "\n",
    "class Stack: # é nessa classe que é criado toda a estrutura da pilha\n",
    "    def __init__(self): # Primeiro trazendo o construtor\n",
    "        self.top = None\n",
    "        self.size = 0\n",
    "\n",
    "    def push(self,elem): # Inserindo elemento que o usuário vai colocar \n",
    "        node = None(elem)\n",
    "        node.next = self.top\n",
    "        self.top = node\n",
    "        self.size += 1 # Aumenta o tamanho da pilha\n",
    "\n",
    "    def __repr__(self): # representativo\n",
    "        if self.size == 0:\n",
    "            return 'Pilha vazia'\n",
    "        \n",
    "        s = ''\n",
    "        p = self.top\n",
    "        while(p):\n",
    "            s += str(p.data) + '\\n'\n",
    "            p = p.next\n",
    "\n",
    "        return s\n"
   ]
  },
  {
   "cell_type": "code",
   "execution_count": null,
   "metadata": {},
   "outputs": [],
   "source": []
  }
 ],
 "metadata": {
  "kernelspec": {
   "display_name": "Python 3",
   "language": "python",
   "name": "python3"
  },
  "language_info": {
   "codemirror_mode": {
    "name": "ipython",
    "version": 3
   },
   "file_extension": ".py",
   "mimetype": "text/x-python",
   "name": "python",
   "nbconvert_exporter": "python",
   "pygments_lexer": "ipython3",
   "version": "3.12.3"
  }
 },
 "nbformat": 4,
 "nbformat_minor": 2
}
