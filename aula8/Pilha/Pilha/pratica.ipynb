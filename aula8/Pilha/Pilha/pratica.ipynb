{
 "cells": [
  {
   "cell_type": "code",
   "execution_count": 9,
   "metadata": {},
   "outputs": [
    {
     "name": "stdout",
     "output_type": "stream",
     "text": [
      "True\n"
     ]
    }
   ],
   "source": [
    "import typing\n",
    "from collections import deque\n",
    "\n",
    "def verifica_delimitadores(expressao:str) -> bool:\n",
    "\n",
    "    delim_abre = '({['\n",
    "    delim_fecha = ')}]'\n",
    "\n",
    "    P = deque()\n",
    "\n",
    "    for letra in expressao:\n",
    "        if letra in delim_abre:\n",
    "            P.append(letra)\n",
    "\n",
    "        elif letra in delim_fecha:\n",
    "            if len(P) == 0:\n",
    "                return False\n",
    "            if delim_fecha.index(letra) != delim_abre.index(P.pop()):\n",
    "                return False\n",
    "            \n",
    "    return len(P) == 0\n",
    "\n",
    "if __name__ == '__main__':\n",
    "    expressao = \"( )(( )){([( )])}\"\n",
    "    print(verifica_delimitadores(expressao))"
   ]
  },
  {
   "cell_type": "code",
   "execution_count": null,
   "metadata": {},
   "outputs": [],
   "source": []
  }
 ],
 "metadata": {
  "kernelspec": {
   "display_name": "Python 3",
   "language": "python",
   "name": "python3"
  },
  "language_info": {
   "codemirror_mode": {
    "name": "ipython",
    "version": 3
   },
   "file_extension": ".py",
   "mimetype": "text/x-python",
   "name": "python",
   "nbconvert_exporter": "python",
   "pygments_lexer": "ipython3",
   "version": "3.12.3"
  }
 },
 "nbformat": 4,
 "nbformat_minor": 2
}
