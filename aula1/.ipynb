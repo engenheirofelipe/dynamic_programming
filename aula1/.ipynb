{
 "cells": [
  {
   "cell_type": "markdown",
   "metadata": {},
   "source": [
    "#   Selection Sort\n",
    "\n",
    "## Vantagens :\n",
    "\n",
    "* Implementação simples.\n",
    "* Não precisa estrutura de dados auxiliar\n",
    "* Rápido em vetores pequenos \n",
    "  \n",
    "## Desvantagens :\n",
    "\n",
    "* Lento para vetores grandes\n",
    "* Complexidade de tempo O(n^2) (sempre)"
   ]
  },
  {
   "cell_type": "code",
   "execution_count": 2,
   "metadata": {},
   "outputs": [
    {
     "data": {
      "text/plain": [
       "[1, 5, 5, 8, 9, 10, 10, 23]"
      ]
     },
     "execution_count": 2,
     "metadata": {},
     "output_type": "execute_result"
    }
   ],
   "source": [
    "\n",
    "lista = [5,8,10,23,5,9,1,10]\n",
    "\n",
    "def selection_sort(vetor):\n",
    "    for i in range(len(vetor)):\n",
    "        id_min = i\n",
    "        for j in range(i +1, len(vetor)):\n",
    "            if vetor[j] < vetor[id_min]:\n",
    "                id_min = j\n",
    "        vetor[i], vetor[id_min] = vetor[id_min], vetor[i]\n",
    "    return vetor\n",
    "selection_sort(lista)\n"
   ]
  },
  {
   "cell_type": "markdown",
   "metadata": {},
   "source": [
    "# Inserction "
   ]
  },
  {
   "cell_type": "code",
   "execution_count": 17,
   "metadata": {},
   "outputs": [
    {
     "data": {
      "text/plain": [
       "[1, 2, 4, 4, 5, 5, 6, 7, 8, 9]"
      ]
     },
     "execution_count": 17,
     "metadata": {},
     "output_type": "execute_result"
    }
   ],
   "source": [
    "\n",
    "lista2 = [2,5,6,9,4,1,5,4,7,8]\n",
    "\n",
    "def selection_sort(vetor):\n",
    "     for i in range(1, len(vetor)):\n",
    "        chave = vetor[i]\n",
    "        j = i -1\n",
    "\n",
    "        while j >= 0 and vetor[j] > chave:\n",
    "            vetor[j+1] = vetor[j]\n",
    "            j -= 1\n",
    "        vetor[j+1] = chave\n",
    "     return vetor\n",
    "\n",
    "selection_sort(lista2)"
   ]
  }
 ],
 "metadata": {
  "kernelspec": {
   "display_name": "Python 3",
   "language": "python",
   "name": "python3"
  },
  "language_info": {
   "codemirror_mode": {
    "name": "ipython",
    "version": 3
   },
   "file_extension": ".py",
   "mimetype": "text/x-python",
   "name": "python",
   "nbconvert_exporter": "python",
   "pygments_lexer": "ipython3",
   "version": "3.12.3"
  }
 },
 "nbformat": 4,
 "nbformat_minor": 2
}
