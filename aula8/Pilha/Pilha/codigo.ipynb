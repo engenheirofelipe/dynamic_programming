{
 "cells": [
  {
   "cell_type": "code",
   "execution_count": 2,
   "metadata": {},
   "outputs": [
    {
     "name": "stdout",
     "output_type": "stream",
     "text": [
      "True\n"
     ]
    }
   ],
   "source": [
    "#! /usr/bin/env python3 #\n",
    "# -*- coding: utf-8 -*- #\n",
    "\n",
    "\n",
    "## Impotação de módulos - - - - - - - - - - - - - - - - - - - - - - - #\n",
    "import typing\n",
    "from collections import deque\n",
    "\n",
    "\n",
    "## Implementação de funções - - - - - - - - - - - - - - - - - - - - - #\n",
    "def verifica_delimitadores(expressao: str) -> bool: # str - onde vai ter os símbolos, exemplo ([[])} de forma incorreta, ou pode ter de forma correta também\n",
    "    \"\"\"\n",
    "Recebe uma expressão e retorna True se a expressão foi escrita de forma\n",
    "correta, do contrário, retorna False.\n",
    "    \"\"\"\n",
    "\n",
    "    ## cria os delimitadores que abrem e fecham uma expressão\n",
    "    delim_abre = '({['\n",
    "    delim_fecha = ')}]'\n",
    "\n",
    "    ## cria a pilha que irá armazenar os delimitadores que abrem uma\n",
    "    ## expressão\n",
    "    P = deque() # criando uma estrutura vazia e usando como uma pilha.\n",
    "\n",
    "    for letra in expressao: # Lendo a expresao\n",
    "        ## empilha os delimitadores que abrem uma expressão\n",
    "        if letra in delim_abre: # se for um elemento que abre\n",
    "            P.append(letra)\n",
    "\n",
    "        ## parte que verifica se para uma delimitador que abre tem\n",
    "        ## um que fecha\n",
    "        elif letra in delim_fecha:\n",
    "            ## se a pilha está vazia, isso signfica que está faltando um\n",
    "            ## delimitador que abre\n",
    "            if len(P) == 0: # se a pilha está vazia\n",
    "                return False # retorna falso.\n",
    "\n",
    "            ## se os delimitadores não são compatíveis, ( ), [ ], ou\n",
    "            ## { }, então a expressão não está escrita da forma correta\n",
    "            if delim_fecha.index(letra) != delim_abre.index(P.pop()):\n",
    "                return False\n",
    "\n",
    "    ## duas situações podem ocorrer ao terminar o for\n",
    "    ## (1) a pilha está vazia, isso significa que tinhamos um ( [ {\n",
    "    ##     correspondente para cada ) ] }, portanto a expressão está\n",
    "    ##     correta\n",
    "    ## (2) a pilha não está vazia, então há algum ( [ { que não foi\n",
    "    ##     fechado e, portanto, a expressão está incorreta\n",
    "    return len(P) == 0\n",
    "\n",
    "\n",
    "## Script principal - - - - - - - - - - - - - - - - - - - - - - - - - #\n",
    "if __name__ == \"__main__\":\n",
    "## expressão escrita de forma correta\n",
    "    expressao = \"( )(( )){([( )])}\"\n",
    "## expressão escrita de forma incorreta\n",
    "    # expressao = \")(( )){([( )])}\" # Apenas os que abrem vão ser usados para empilhar \n",
    "    print(verifica_delimitadores(expressao))\n"
   ]
  },
  {
   "cell_type": "code",
   "execution_count": null,
   "metadata": {},
   "outputs": [],
   "source": []
  }
 ],
 "metadata": {
  "kernelspec": {
   "display_name": "Python 3",
   "language": "python",
   "name": "python3"
  },
  "language_info": {
   "codemirror_mode": {
    "name": "ipython",
    "version": 3
   },
   "file_extension": ".py",
   "mimetype": "text/x-python",
   "name": "python",
   "nbconvert_exporter": "python",
   "pygments_lexer": "ipython3",
   "version": "3.12.3"
  }
 },
 "nbformat": 4,
 "nbformat_minor": 2
}
