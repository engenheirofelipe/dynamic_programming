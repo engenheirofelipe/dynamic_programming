{
 "cells": [
  {
   "cell_type": "code",
   "execution_count": 7,
   "metadata": {},
   "outputs": [
    {
     "name": "stdout",
     "output_type": "stream",
     "text": [
      "Chamada [0 .. 3 .. [5, 2, 4, 7, 1, 3, 2, 6]]\n",
      "Chamada [0 .. 1 .. [5, 2, 4, 7]]\n",
      "Chamada [0 .. 0 .. [5, 2]]\n",
      "e: 0\t d:0\n",
      "5\n",
      "Chamada [1 .. 1 [2]]\n",
      "e: 1\t d:1\n",
      "2\n",
      "Chamada [2 .. 3 [4, 7]]\n",
      "Chamada [2 .. 2 .. [4, 7]]\n",
      "e: 2\t d:2\n",
      "4\n",
      "Chamada [3 .. 3 [7]]\n",
      "e: 3\t d:3\n",
      "7\n",
      "Chamada [4 .. 7 [1, 3, 2, 6]]\n",
      "Chamada [4 .. 5 .. [1, 3, 2, 6]]\n",
      "Chamada [4 .. 4 .. [1, 3]]\n",
      "e: 4\t d:4\n",
      "1\n",
      "Chamada [5 .. 5 [3]]\n",
      "e: 5\t d:5\n",
      "3\n",
      "Chamada [6 .. 7 [2, 6]]\n",
      "Chamada [6 .. 6 .. [2, 6]]\n",
      "e: 6\t d:6\n",
      "2\n",
      "Chamada [7 .. 7 [6]]\n",
      "e: 7\t d:7\n",
      "6\n"
     ]
    }
   ],
   "source": [
    "def combina(v,e,meio,d):\n",
    "    tam1 = meio - e +1\n",
    "    tam2 = d - meio\n",
    "    E = [v[e +i] for i in range(tam1)]\n",
    "    D = [v[d +i] for i in range(tam2)] \n",
    "\n",
    "def merge_sort(v, e, d):\n",
    "    if e < d:\n",
    "        meio = (d + e) // 2 # divisão para ter resultado inteiro\n",
    "        print(f\"Chamada [{e} .. {meio} .. {v[e:d +1]}]\")\n",
    "        merge_sort(v, e, meio)\n",
    "        print(f\"Chamada [{meio+1} .. {d} {v[meio+1:d+1]}]\")\n",
    "        merge_sort(v, meio +1, d)\n",
    "\n",
    "    else:\n",
    "        print(f\"e: {e}\\t d:{d}\")\n",
    "        print(f\"{v[e]}\")\n",
    "\n",
    "v = [5,2,4,7,1,3,2,6]\n",
    "\n",
    "merge_sort(v, 0, len(v) - 1)\n"
   ]
  }
 ],
 "metadata": {
  "kernelspec": {
   "display_name": "Python 3",
   "language": "python",
   "name": "python3"
  },
  "language_info": {
   "codemirror_mode": {
    "name": "ipython",
    "version": 3
   },
   "file_extension": ".py",
   "mimetype": "text/x-python",
   "name": "python",
   "nbconvert_exporter": "python",
   "pygments_lexer": "ipython3",
   "version": "3.12.3"
  }
 },
 "nbformat": 4,
 "nbformat_minor": 2
}
