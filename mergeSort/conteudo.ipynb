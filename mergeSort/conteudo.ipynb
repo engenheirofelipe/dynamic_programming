{
 "cells": [
  {
   "cell_type": "code",
   "execution_count": 1,
   "metadata": {},
   "outputs": [],
   "source": [
    "def merge_sort(vetor:list[any], esquerda:int, direita:int) -> None:\n",
    "    if esquerda < direita:\n",
    "        meio = esquerda + (direita - esquerda) // 2\n",
    "        merge_sort(vetor, esquerda, meio)\n",
    "        merge_sort(vetor, meio +1, direita)\n",
    "        combina(vetor, esquerda, meio, direita)\n",
    "\n",
    "def combina(vetor:list[any], esquerda:int, meio:int, direita:int) -> None:\n",
    "    n1 = meio - esquerda + 1\n",
    "    n2 = direita - meio\n",
    "\n",
    "    subvetor_e = [vetor[esquerda +i] for j in range(n1)]\n",
    "    subvetor_d = [vetor[meio +1 +j] for j in range(n2)]\n",
    "\n",
    "    i = j = 0\n",
    "    k = esquerda\n",
    "\n",
    "\n",
    "    while i < n1 and j < n2:\n",
    "        if subvetor_e[i] <= subvetor_d[j]:\n",
    "            vetor[k] = subvetor_e[i]\n",
    "            i += 1\n",
    "    else:\n",
    "        vetor[k] = subvetor_d[j]\n",
    "        j += 1\n",
    "    k += 1\n",
    "\n",
    "    while i < n1:\n",
    "        vetor[k] = subvetor_e[i]\n",
    "        i += 1\n",
    "        k += 1\n",
    "    while j < n2:\n",
    "        vetor[k] = subvetor_d[j]\n",
    "        j += 1\n",
    "        k += 1\n",
    "\n",
    "\n",
    "\n",
    "\n"
   ]
  }
 ],
 "metadata": {
  "kernelspec": {
   "display_name": "Python 3",
   "language": "python",
   "name": "python3"
  },
  "language_info": {
   "codemirror_mode": {
    "name": "ipython",
    "version": 3
   },
   "file_extension": ".py",
   "mimetype": "text/x-python",
   "name": "python",
   "nbconvert_exporter": "python",
   "pygments_lexer": "ipython3",
   "version": "3.12.3"
  }
 },
 "nbformat": 4,
 "nbformat_minor": 2
}
