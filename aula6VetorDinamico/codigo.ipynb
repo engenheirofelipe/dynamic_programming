{
 "cells": [
  {
   "cell_type": "code",
   "execution_count": null,
   "metadata": {},
   "outputs": [],
   "source": [
    "import sys\n",
    "\n",
    "n = int(input(\"Número de elementos:\"))\n",
    "\n",
    "lista = []\n",
    "\n",
    "for i in range(n):\n",
    "    tam = len(lista)\n",
    "\n",
    "    tam_bytes = sys.getsizeof(lista)\n",
    "\n",
    "    print(f\"O número de elementos é : {tam}. O tamanho em bytes é : {tam_bytes}\")\n",
    "\n",
    "    lista.append(None)"
   ]
  },
  {
   "cell_type": "code",
   "execution_count": null,
   "metadata": {},
   "outputs": [],
   "source": [
    "# v : vetor dinâmico\n",
    "# valor: elemento novo\n",
    "# j: índice onde será inserido o elemento novo\n",
    "\n",
    "for i in range(len(V), j, -1):\n",
    "    V[i] = V[i - 1]\n",
    "\n",
    "V[j] = valor"
   ]
  }
 ],
 "metadata": {
  "kernelspec": {
   "display_name": "Python 3",
   "language": "python",
   "name": "python3"
  },
  "language_info": {
   "codemirror_mode": {
    "name": "ipython",
    "version": 3
   },
   "file_extension": ".py",
   "mimetype": "text/x-python",
   "name": "python",
   "nbconvert_exporter": "python",
   "pygments_lexer": "ipython3",
   "version": "3.12.3"
  }
 },
 "nbformat": 4,
 "nbformat_minor": 2
}
