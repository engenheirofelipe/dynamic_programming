{
 "cells": [
  {
   "cell_type": "code",
   "execution_count": 3,
   "metadata": {},
   "outputs": [
    {
     "name": "stdout",
     "output_type": "stream",
     "text": [
      "2 será removido\n",
      "[3, 4, 6, 10, None]\n"
     ]
    }
   ],
   "source": [
    "from typing import Any\n",
    "\n",
    "def busca_sequencial(l: list[Any], x:int) -> int:\n",
    " \n",
    "    for i, elemento in enumerate(l):\n",
    "        if elemento == x:\n",
    "            return i\n",
    "\n",
    "    return -1 \n",
    "\n",
    "\n",
    "lista = [2,3,4,6,10]\n",
    "\n",
    "# indice i é onde vou querer remover o elemento\n",
    "\n",
    "x = 2  # elemento a ser removido\n",
    "i = busca_sequencial(lista,x) # remoção\n",
    "\n",
    "if i != -1:\n",
    "    print(f'{x} será removido')\n",
    "    for j in range(i+1, len(lista)):\n",
    "        lista[j-1] = lista[j] # Onde faz a troca\n",
    "        \n",
    "        \n",
    "    lista[len(lista) -1] = None\n",
    "    print(lista)\n",
    "\n",
    "else:\n",
    "      print(f'{x} não será removido')\n",
    "    \n",
    "    \n",
    "    "
   ]
  }
 ],
 "metadata": {
  "kernelspec": {
   "display_name": "Python 3",
   "language": "python",
   "name": "python3"
  },
  "language_info": {
   "codemirror_mode": {
    "name": "ipython",
    "version": 3
   },
   "file_extension": ".py",
   "mimetype": "text/x-python",
   "name": "python",
   "nbconvert_exporter": "python",
   "pygments_lexer": "ipython3",
   "version": "3.12.3"
  }
 },
 "nbformat": 4,
 "nbformat_minor": 2
}
